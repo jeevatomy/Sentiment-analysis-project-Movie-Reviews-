{
 "cells": [
  {
   "cell_type": "code",
   "execution_count": 1,
   "id": "abde53dc-122f-40f7-aed9-75d0f9b62506",
   "metadata": {},
   "outputs": [
    {
     "name": "stderr",
     "output_type": "stream",
     "text": [
      "<>:5: SyntaxWarning: invalid escape sequence '\\s'\n",
      "<>:6: SyntaxWarning: invalid escape sequence '\\s'\n",
      "<>:5: SyntaxWarning: invalid escape sequence '\\s'\n",
      "<>:6: SyntaxWarning: invalid escape sequence '\\s'\n",
      "C:\\Users\\jeeva\\AppData\\Local\\Temp\\ipykernel_18312\\4047797320.py:5: SyntaxWarning: invalid escape sequence '\\s'\n",
      "  model = joblib.load('E:\\sentiment-analysis-project/models/logistic_model.pkl')\n",
      "C:\\Users\\jeeva\\AppData\\Local\\Temp\\ipykernel_18312\\4047797320.py:6: SyntaxWarning: invalid escape sequence '\\s'\n",
      "  vectorizer = joblib.load('E:\\sentiment-analysis-project/models/tfidf_vectorizer.pkl')\n"
     ]
    },
    {
     "name": "stdout",
     "output_type": "stream",
     "text": [
      "✅ Model and vectorizer loaded successfully!\n"
     ]
    }
   ],
   "source": [
    "import joblib\n",
    "import numpy as np\n",
    "\n",
    "# Load the model and vectorizer\n",
    "model = joblib.load('E:\\sentiment-analysis-project/models/logistic_model.pkl')\n",
    "vectorizer = joblib.load('E:\\sentiment-analysis-project/models/tfidf_vectorizer.pkl')\n",
    "\n",
    "print(\"✅ Model and vectorizer loaded successfully!\")\n"
   ]
  },
  {
   "cell_type": "code",
   "execution_count": 2,
   "id": "6dca5abf-184e-40c9-9e4b-b94e71b6ca2a",
   "metadata": {},
   "outputs": [
    {
     "name": "stderr",
     "output_type": "stream",
     "text": [
      "[nltk_data] Downloading package punkt to\n",
      "[nltk_data]     C:\\Users\\jeeva\\AppData\\Roaming\\nltk_data...\n",
      "[nltk_data]   Package punkt is already up-to-date!\n",
      "[nltk_data] Downloading package stopwords to\n",
      "[nltk_data]     C:\\Users\\jeeva\\AppData\\Roaming\\nltk_data...\n",
      "[nltk_data]   Package stopwords is already up-to-date!\n",
      "[nltk_data] Downloading package wordnet to\n",
      "[nltk_data]     C:\\Users\\jeeva\\AppData\\Roaming\\nltk_data...\n",
      "[nltk_data]   Package wordnet is already up-to-date!\n",
      "[nltk_data] Downloading package omw-1.4 to\n",
      "[nltk_data]     C:\\Users\\jeeva\\AppData\\Roaming\\nltk_data...\n",
      "[nltk_data]   Package omw-1.4 is already up-to-date!\n"
     ]
    }
   ],
   "source": [
    "import re\n",
    "import nltk\n",
    "from nltk.corpus import stopwords\n",
    "from nltk.stem import WordNetLemmatizer\n",
    "from nltk.tokenize import word_tokenize\n",
    "\n",
    "# Download required NLTK resources (if not already done)\n",
    "nltk.download('punkt')\n",
    "nltk.download('stopwords')\n",
    "nltk.download('wordnet')\n",
    "nltk.download('omw-1.4')\n",
    "\n",
    "def preprocess_text(text):\n",
    "    text = text.lower()\n",
    "    text = re.sub(r'<[^>]+>', '', text)\n",
    "    text = re.sub(r'http\\S+|www\\S+', '', text)\n",
    "    text = re.sub(r'[^a-zA-Z\\s]', '', text)\n",
    "    text = re.sub(r'\\s+', ' ', text).strip()\n",
    "\n",
    "    tokens = word_tokenize(text)\n",
    "    stop_words = set(stopwords.words('english'))\n",
    "    tokens = [t for t in tokens if t not in stop_words and len(t) > 2]\n",
    "\n",
    "    lemmatizer = WordNetLemmatizer()\n",
    "    tokens = [lemmatizer.lemmatize(token) for token in tokens]\n",
    "\n",
    "    return ' '.join(tokens)\n"
   ]
  },
  {
   "cell_type": "code",
   "execution_count": 3,
   "id": "939a9b05-d534-4aee-9473-f15a0107c4cf",
   "metadata": {},
   "outputs": [
    {
     "name": "stdin",
     "output_type": "stream",
     "text": [
      "💬 Enter a movie review:\n",
      " \"This movie was absolutely amazing and the acting was top-notch!\"\n"
     ]
    },
    {
     "name": "stdout",
     "output_type": "stream",
     "text": [
      "\n",
      "🔍 Predicted Sentiment: ✅ Positive\n",
      "📊 Confidence: 68.39%\n"
     ]
    }
   ],
   "source": [
    "# Take user input\n",
    "user_input = input(\"💬 Enter a movie review:\\n\")\n",
    "\n",
    "# Preprocess\n",
    "cleaned_text = preprocess_text(user_input)\n",
    "\n",
    "# Vectorize\n",
    "vectorized_input = vectorizer.transform([cleaned_text])\n",
    "\n",
    "# Predict\n",
    "prediction = model.predict(vectorized_input)[0]\n",
    "probability = model.predict_proba(vectorized_input)[0].max()\n",
    "\n",
    "# Output\n",
    "print(\"\\n🔍 Predicted Sentiment:\", \"✅ Positive\" if prediction == 'positive' else \"❌ Negative\")\n",
    "print(f\"📊 Confidence: {probability * 100:.2f}%\")\n"
   ]
  },
  {
   "cell_type": "code",
   "execution_count": null,
   "id": "2c8b0967-3b07-4e17-a15b-3c995908c23f",
   "metadata": {},
   "outputs": [],
   "source": []
  }
 ],
 "metadata": {
  "kernelspec": {
   "display_name": "Python 3 (ipykernel)",
   "language": "python",
   "name": "python3"
  },
  "language_info": {
   "codemirror_mode": {
    "name": "ipython",
    "version": 3
   },
   "file_extension": ".py",
   "mimetype": "text/x-python",
   "name": "python",
   "nbconvert_exporter": "python",
   "pygments_lexer": "ipython3",
   "version": "3.12.6"
  }
 },
 "nbformat": 4,
 "nbformat_minor": 5
}
