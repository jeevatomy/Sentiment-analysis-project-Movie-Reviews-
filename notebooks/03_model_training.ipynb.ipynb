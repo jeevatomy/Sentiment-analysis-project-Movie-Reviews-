{
 "cells": [
  {
   "cell_type": "code",
   "execution_count": 2,
   "id": "5bd383c6-16ab-4246-a4e7-762ed1d8e720",
   "metadata": {},
   "outputs": [
    {
     "name": "stdout",
     "output_type": "stream",
     "text": [
      "📊 Loaded 50000 processed reviews\n"
     ]
    }
   ],
   "source": [
    "import pandas as pd\n",
    "import numpy as np\n",
    "\n",
    "from sklearn.feature_extraction.text import TfidfVectorizer\n",
    "from sklearn.model_selection import train_test_split, cross_val_score\n",
    "\n",
    "from sklearn.linear_model import LogisticRegression\n",
    "from sklearn.naive_bayes import MultinomialNB\n",
    "from sklearn.svm import SVC\n",
    "from sklearn.ensemble import RandomForestClassifier\n",
    "\n",
    "from sklearn.metrics import accuracy_score, classification_report, confusion_matrix\n",
    "\n",
    "import matplotlib.pyplot as plt\n",
    "import seaborn as sns\n",
    "import joblib\n",
    "\n",
    "# Load processed data\n",
    "df = pd.read_csv('E:/sentiment-analysis-project/data/processed/processed_reviews.csv')\n",
    "print(f\"📊 Loaded {len(df)} processed reviews\")\n"
   ]
  },
  {
   "cell_type": "code",
   "execution_count": 3,
   "id": "69bea268-902a-42b2-aac3-c873f1cd723c",
   "metadata": {},
   "outputs": [
    {
     "name": "stdout",
     "output_type": "stream",
     "text": [
      "📈 Training set size: 40000\n",
      "📉 Test set size: 10000\n",
      "\n",
      "🔄 Creating TF-IDF features...\n",
      "✅ Feature matrix shape: (40000, 10000)\n",
      "📝 Sample features: ['aaron' 'abandon' 'abandoned' 'abbott' 'abc' 'ability' 'able' 'able get'\n",
      " 'able make' 'able see']\n"
     ]
    }
   ],
   "source": [
    "# Features and labels\n",
    "X = df['processed_review']\n",
    "y = df['sentiment']\n",
    "\n",
    "# Train/test split\n",
    "X_train, X_test, y_train, y_test = train_test_split(\n",
    "    X, y, test_size=0.2, random_state=42, stratify=y\n",
    ")\n",
    "\n",
    "print(f\"📈 Training set size: {len(X_train)}\")\n",
    "print(f\"📉 Test set size: {len(X_test)}\")\n",
    "\n",
    "# TF-IDF Vectorization\n",
    "print(\"\\n🔄 Creating TF-IDF features...\")\n",
    "tfidf = TfidfVectorizer(max_features=10000, ngram_range=(1, 2), min_df=2, max_df=0.95)\n",
    "X_train_tfidf = tfidf.fit_transform(X_train)\n",
    "X_test_tfidf = tfidf.transform(X_test)\n",
    "\n",
    "print(f\"✅ Feature matrix shape: {X_train_tfidf.shape}\")\n",
    "print(f\"📝 Sample features: {tfidf.get_feature_names_out()[:10]}\")\n"
   ]
  },
  {
   "cell_type": "code",
   "execution_count": 4,
   "id": "81d3adf3-b17b-4620-8513-c5dc7e96ec18",
   "metadata": {},
   "outputs": [
    {
     "name": "stdout",
     "output_type": "stream",
     "text": [
      "\n",
      "🔄 Training Logistic Regression...\n",
      "✅ Logistic Regression - CV Mean: 0.8871, Test Accuracy: 0.8924\n",
      "\n",
      "🔄 Training Naive Bayes...\n",
      "✅ Naive Bayes - CV Mean: 0.8638, Test Accuracy: 0.8665\n"
     ]
    },
    {
     "data": {
      "text/html": [
       "<div>\n",
       "<style scoped>\n",
       "    .dataframe tbody tr th:only-of-type {\n",
       "        vertical-align: middle;\n",
       "    }\n",
       "\n",
       "    .dataframe tbody tr th {\n",
       "        vertical-align: top;\n",
       "    }\n",
       "\n",
       "    .dataframe thead th {\n",
       "        text-align: right;\n",
       "    }\n",
       "</style>\n",
       "<table border=\"1\" class=\"dataframe\">\n",
       "  <thead>\n",
       "    <tr style=\"text-align: right;\">\n",
       "      <th></th>\n",
       "      <th>CV Mean</th>\n",
       "      <th>Test Accuracy</th>\n",
       "    </tr>\n",
       "  </thead>\n",
       "  <tbody>\n",
       "    <tr>\n",
       "      <th>Logistic Regression</th>\n",
       "      <td>0.887100</td>\n",
       "      <td>0.8924</td>\n",
       "    </tr>\n",
       "    <tr>\n",
       "      <th>Naive Bayes</th>\n",
       "      <td>0.863775</td>\n",
       "      <td>0.8665</td>\n",
       "    </tr>\n",
       "  </tbody>\n",
       "</table>\n",
       "</div>"
      ],
      "text/plain": [
       "                      CV Mean  Test Accuracy\n",
       "Logistic Regression  0.887100         0.8924\n",
       "Naive Bayes          0.863775         0.8665"
      ]
     },
     "metadata": {},
     "output_type": "display_data"
    }
   ],
   "source": [
    "from sklearn.linear_model import LogisticRegression\n",
    "from sklearn.naive_bayes import MultinomialNB\n",
    "from sklearn.model_selection import cross_val_score\n",
    "from sklearn.metrics import accuracy_score\n",
    "\n",
    "# Use only light models\n",
    "models = {\n",
    "    'Logistic Regression': LogisticRegression(random_state=42, max_iter=1000),\n",
    "    'Naive Bayes': MultinomialNB()\n",
    "}\n",
    "\n",
    "results = {}\n",
    "\n",
    "for name, model in models.items():\n",
    "    print(f\"\\n🔄 Training {name}...\")\n",
    "    model.fit(X_train_tfidf, y_train)\n",
    "    y_pred = model.predict(X_test_tfidf)\n",
    "    test_acc = accuracy_score(y_test, y_pred)\n",
    "\n",
    "    # Optional: light CV\n",
    "    cv_scores = cross_val_score(model, X_train_tfidf, y_train, cv=3, scoring='accuracy')\n",
    "\n",
    "    results[name] = {\n",
    "        'CV Mean': cv_scores.mean(),\n",
    "        'Test Accuracy': test_acc\n",
    "    }\n",
    "\n",
    "    print(f\"✅ {name} - CV Mean: {cv_scores.mean():.4f}, Test Accuracy: {test_acc:.4f}\")\n",
    "\n",
    "# Show results\n",
    "results_df = pd.DataFrame(results).T\n",
    "display(results_df)\n"
   ]
  },
  {
   "cell_type": "code",
   "execution_count": 5,
   "id": "b673c943-993e-4e5e-bfbe-da8043702a2e",
   "metadata": {},
   "outputs": [
    {
     "name": "stderr",
     "output_type": "stream",
     "text": [
      "<>:4: SyntaxWarning: invalid escape sequence '\\s'\n",
      "<>:7: SyntaxWarning: invalid escape sequence '\\s'\n",
      "<>:4: SyntaxWarning: invalid escape sequence '\\s'\n",
      "<>:7: SyntaxWarning: invalid escape sequence '\\s'\n",
      "C:\\Users\\jeeva\\AppData\\Local\\Temp\\ipykernel_33216\\2669013887.py:4: SyntaxWarning: invalid escape sequence '\\s'\n",
      "  joblib.dump(model, 'E:\\sentiment-analysis-project/models/logistic_model.pkl')\n",
      "C:\\Users\\jeeva\\AppData\\Local\\Temp\\ipykernel_33216\\2669013887.py:7: SyntaxWarning: invalid escape sequence '\\s'\n",
      "  joblib.dump(tfidf, 'E:\\sentiment-analysis-project/models/tfidf_vectorizer.pkl')\n"
     ]
    },
    {
     "name": "stdout",
     "output_type": "stream",
     "text": [
      "✅ Model and vectorizer saved to /models/\n"
     ]
    }
   ],
   "source": [
    "import joblib\n",
    "\n",
    "# Save best model\n",
    "joblib.dump(model, 'E:\\sentiment-analysis-project/models/logistic_model.pkl')\n",
    "\n",
    "# Save the TF-IDF vectorizer\n",
    "joblib.dump(tfidf, 'E:\\sentiment-analysis-project/models/tfidf_vectorizer.pkl')\n",
    "\n",
    "print(\"✅ Model and vectorizer saved to /models/\")\n"
   ]
  },
  {
   "cell_type": "code",
   "execution_count": null,
   "id": "dbd36ced-10f6-4178-8465-2f4ab2c165e9",
   "metadata": {},
   "outputs": [],
   "source": []
  }
 ],
 "metadata": {
  "kernelspec": {
   "display_name": "Python 3 (ipykernel)",
   "language": "python",
   "name": "python3"
  },
  "language_info": {
   "codemirror_mode": {
    "name": "ipython",
    "version": 3
   },
   "file_extension": ".py",
   "mimetype": "text/x-python",
   "name": "python",
   "nbconvert_exporter": "python",
   "pygments_lexer": "ipython3",
   "version": "3.12.6"
  }
 },
 "nbformat": 4,
 "nbformat_minor": 5
}
